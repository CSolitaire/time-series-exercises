{
 "cells": [
  {
   "cell_type": "code",
   "execution_count": 26,
   "metadata": {},
   "outputs": [],
   "source": [
    "import requests\n",
    "import pandas as pd\n",
    "import numpy as np\n",
    "import matplotlib.pyplot as plt\n",
    "import os\n",
    "from env import host, user, password\n",
    "import warnings\n",
    "warnings.filterwarnings(\"ignore\")"
   ]
  },
  {
   "cell_type": "markdown",
   "metadata": {},
   "source": [
    "# Acquire:"
   ]
  },
  {
   "cell_type": "markdown",
   "metadata": {},
   "source": [
    "### Project Breakdown:\n",
    "\n",
    "1. Data in CSV needed to be formatted.  I chose to formatt in excel.   \n",
    "\n",
    "\n",
    "2. In excel only 8 of 248 daily food logs were recorded.  With 97% of data missing I decided to drop the food log columns.'Calories_in' was also dropped for the same reason.   \n",
    "\n",
    "\n",
    "3. There are 22 missing rows of data at the end of the dataframe.  The last activity entries were 12/6.  Because no activity entries have been missing in the dataset I chose to delete the missing values after 12/6.    \n",
    "\n",
    "\n",
    "4. This leaves me with a df that is 10 colums by 225 rows (or 225 days worth of data)\n",
    "   - 1 day = 1 row"
   ]
  },
  {
   "cell_type": "code",
   "execution_count": 2,
   "metadata": {},
   "outputs": [
    {
     "data": {
      "text/html": [
       "<div>\n",
       "<style scoped>\n",
       "    .dataframe tbody tr th:only-of-type {\n",
       "        vertical-align: middle;\n",
       "    }\n",
       "\n",
       "    .dataframe tbody tr th {\n",
       "        vertical-align: top;\n",
       "    }\n",
       "\n",
       "    .dataframe thead th {\n",
       "        text-align: right;\n",
       "    }\n",
       "</style>\n",
       "<table border=\"1\" class=\"dataframe\">\n",
       "  <thead>\n",
       "    <tr style=\"text-align: right;\">\n",
       "      <th></th>\n",
       "      <th>date</th>\n",
       "      <th>calories_burned</th>\n",
       "      <th>steps</th>\n",
       "      <th>distance</th>\n",
       "      <th>floors</th>\n",
       "      <th>mins_sedentary</th>\n",
       "      <th>mins_light_active</th>\n",
       "      <th>mins_fairly_active</th>\n",
       "      <th>mins_very_active</th>\n",
       "      <th>activity_calories</th>\n",
       "    </tr>\n",
       "  </thead>\n",
       "  <tbody>\n",
       "    <tr>\n",
       "      <th>0</th>\n",
       "      <td>4/26/18</td>\n",
       "      <td>2635.0</td>\n",
       "      <td>2931.0</td>\n",
       "      <td>1.38</td>\n",
       "      <td>2.0</td>\n",
       "      <td>1347.0</td>\n",
       "      <td>93.0</td>\n",
       "      <td>0.0</td>\n",
       "      <td>0.0</td>\n",
       "      <td>566.0</td>\n",
       "    </tr>\n",
       "    <tr>\n",
       "      <th>1</th>\n",
       "      <td>4/27/18</td>\n",
       "      <td>3649.0</td>\n",
       "      <td>9971.0</td>\n",
       "      <td>4.70</td>\n",
       "      <td>19.0</td>\n",
       "      <td>1158.0</td>\n",
       "      <td>219.0</td>\n",
       "      <td>46.0</td>\n",
       "      <td>17.0</td>\n",
       "      <td>1752.0</td>\n",
       "    </tr>\n",
       "    <tr>\n",
       "      <th>2</th>\n",
       "      <td>4/28/18</td>\n",
       "      <td>3379.0</td>\n",
       "      <td>3521.0</td>\n",
       "      <td>1.66</td>\n",
       "      <td>2.0</td>\n",
       "      <td>702.0</td>\n",
       "      <td>155.0</td>\n",
       "      <td>22.0</td>\n",
       "      <td>11.0</td>\n",
       "      <td>1124.0</td>\n",
       "    </tr>\n",
       "    <tr>\n",
       "      <th>3</th>\n",
       "      <td>4/29/18</td>\n",
       "      <td>2851.0</td>\n",
       "      <td>1639.0</td>\n",
       "      <td>0.77</td>\n",
       "      <td>0.0</td>\n",
       "      <td>891.0</td>\n",
       "      <td>122.0</td>\n",
       "      <td>0.0</td>\n",
       "      <td>0.0</td>\n",
       "      <td>602.0</td>\n",
       "    </tr>\n",
       "    <tr>\n",
       "      <th>4</th>\n",
       "      <td>4/30/18</td>\n",
       "      <td>2825.0</td>\n",
       "      <td>1323.0</td>\n",
       "      <td>0.62</td>\n",
       "      <td>0.0</td>\n",
       "      <td>880.0</td>\n",
       "      <td>104.0</td>\n",
       "      <td>0.0</td>\n",
       "      <td>0.0</td>\n",
       "      <td>540.0</td>\n",
       "    </tr>\n",
       "  </tbody>\n",
       "</table>\n",
       "</div>"
      ],
      "text/plain": [
       "      date  calories_burned   steps  distance  floors  mins_sedentary  \\\n",
       "0  4/26/18           2635.0  2931.0      1.38     2.0          1347.0   \n",
       "1  4/27/18           3649.0  9971.0      4.70    19.0          1158.0   \n",
       "2  4/28/18           3379.0  3521.0      1.66     2.0           702.0   \n",
       "3  4/29/18           2851.0  1639.0      0.77     0.0           891.0   \n",
       "4  4/30/18           2825.0  1323.0      0.62     0.0           880.0   \n",
       "\n",
       "   mins_light_active  mins_fairly_active  mins_very_active  activity_calories  \n",
       "0               93.0                 0.0               0.0              566.0  \n",
       "1              219.0                46.0              17.0             1752.0  \n",
       "2              155.0                22.0              11.0             1124.0  \n",
       "3              122.0                 0.0               0.0              602.0  \n",
       "4              104.0                 0.0               0.0              540.0  "
      ]
     },
     "execution_count": 2,
     "metadata": {},
     "output_type": "execute_result"
    }
   ],
   "source": [
    "df = pd.read_csv('time_series_project.csv')\n",
    "df.head()"
   ]
  },
  {
   "cell_type": "code",
   "execution_count": 3,
   "metadata": {},
   "outputs": [
    {
     "name": "stdout",
     "output_type": "stream",
     "text": [
      "<class 'pandas.core.frame.DataFrame'>\n",
      "RangeIndex: 247 entries, 0 to 246\n",
      "Data columns (total 10 columns):\n",
      " #   Column              Non-Null Count  Dtype  \n",
      "---  ------              --------------  -----  \n",
      " 0   date                225 non-null    object \n",
      " 1   calories_burned     225 non-null    float64\n",
      " 2   steps               225 non-null    float64\n",
      " 3   distance            225 non-null    float64\n",
      " 4   floors              225 non-null    float64\n",
      " 5   mins_sedentary      225 non-null    float64\n",
      " 6   mins_light_active   225 non-null    float64\n",
      " 7   mins_fairly_active  225 non-null    float64\n",
      " 8   mins_very_active    225 non-null    float64\n",
      " 9   activity_calories   225 non-null    float64\n",
      "dtypes: float64(9), object(1)\n",
      "memory usage: 19.4+ KB\n"
     ]
    }
   ],
   "source": [
    "df.info()"
   ]
  },
  {
   "cell_type": "markdown",
   "metadata": {},
   "source": [
    "# Prepare:"
   ]
  },
  {
   "cell_type": "markdown",
   "metadata": {},
   "source": [
    "### Step #1. Convert to Datetime and Reset Index"
   ]
  },
  {
   "cell_type": "code",
   "execution_count": 4,
   "metadata": {},
   "outputs": [
    {
     "data": {
      "text/html": [
       "<div>\n",
       "<style scoped>\n",
       "    .dataframe tbody tr th:only-of-type {\n",
       "        vertical-align: middle;\n",
       "    }\n",
       "\n",
       "    .dataframe tbody tr th {\n",
       "        vertical-align: top;\n",
       "    }\n",
       "\n",
       "    .dataframe thead th {\n",
       "        text-align: right;\n",
       "    }\n",
       "</style>\n",
       "<table border=\"1\" class=\"dataframe\">\n",
       "  <thead>\n",
       "    <tr style=\"text-align: right;\">\n",
       "      <th></th>\n",
       "      <th>calories_burned</th>\n",
       "      <th>steps</th>\n",
       "      <th>distance</th>\n",
       "      <th>floors</th>\n",
       "      <th>mins_sedentary</th>\n",
       "      <th>mins_light_active</th>\n",
       "      <th>mins_fairly_active</th>\n",
       "      <th>mins_very_active</th>\n",
       "      <th>activity_calories</th>\n",
       "    </tr>\n",
       "    <tr>\n",
       "      <th>date</th>\n",
       "      <th></th>\n",
       "      <th></th>\n",
       "      <th></th>\n",
       "      <th></th>\n",
       "      <th></th>\n",
       "      <th></th>\n",
       "      <th></th>\n",
       "      <th></th>\n",
       "      <th></th>\n",
       "    </tr>\n",
       "  </thead>\n",
       "  <tbody>\n",
       "    <tr>\n",
       "      <th>2018-04-26</th>\n",
       "      <td>2635.0</td>\n",
       "      <td>2931.0</td>\n",
       "      <td>1.38</td>\n",
       "      <td>2.0</td>\n",
       "      <td>1347.0</td>\n",
       "      <td>93.0</td>\n",
       "      <td>0.0</td>\n",
       "      <td>0.0</td>\n",
       "      <td>566.0</td>\n",
       "    </tr>\n",
       "    <tr>\n",
       "      <th>2018-04-27</th>\n",
       "      <td>3649.0</td>\n",
       "      <td>9971.0</td>\n",
       "      <td>4.70</td>\n",
       "      <td>19.0</td>\n",
       "      <td>1158.0</td>\n",
       "      <td>219.0</td>\n",
       "      <td>46.0</td>\n",
       "      <td>17.0</td>\n",
       "      <td>1752.0</td>\n",
       "    </tr>\n",
       "    <tr>\n",
       "      <th>2018-04-28</th>\n",
       "      <td>3379.0</td>\n",
       "      <td>3521.0</td>\n",
       "      <td>1.66</td>\n",
       "      <td>2.0</td>\n",
       "      <td>702.0</td>\n",
       "      <td>155.0</td>\n",
       "      <td>22.0</td>\n",
       "      <td>11.0</td>\n",
       "      <td>1124.0</td>\n",
       "    </tr>\n",
       "    <tr>\n",
       "      <th>2018-04-29</th>\n",
       "      <td>2851.0</td>\n",
       "      <td>1639.0</td>\n",
       "      <td>0.77</td>\n",
       "      <td>0.0</td>\n",
       "      <td>891.0</td>\n",
       "      <td>122.0</td>\n",
       "      <td>0.0</td>\n",
       "      <td>0.0</td>\n",
       "      <td>602.0</td>\n",
       "    </tr>\n",
       "    <tr>\n",
       "      <th>2018-04-30</th>\n",
       "      <td>2825.0</td>\n",
       "      <td>1323.0</td>\n",
       "      <td>0.62</td>\n",
       "      <td>0.0</td>\n",
       "      <td>880.0</td>\n",
       "      <td>104.0</td>\n",
       "      <td>0.0</td>\n",
       "      <td>0.0</td>\n",
       "      <td>540.0</td>\n",
       "    </tr>\n",
       "  </tbody>\n",
       "</table>\n",
       "</div>"
      ],
      "text/plain": [
       "            calories_burned   steps  distance  floors  mins_sedentary  \\\n",
       "date                                                                    \n",
       "2018-04-26           2635.0  2931.0      1.38     2.0          1347.0   \n",
       "2018-04-27           3649.0  9971.0      4.70    19.0          1158.0   \n",
       "2018-04-28           3379.0  3521.0      1.66     2.0           702.0   \n",
       "2018-04-29           2851.0  1639.0      0.77     0.0           891.0   \n",
       "2018-04-30           2825.0  1323.0      0.62     0.0           880.0   \n",
       "\n",
       "            mins_light_active  mins_fairly_active  mins_very_active  \\\n",
       "date                                                                  \n",
       "2018-04-26               93.0                 0.0               0.0   \n",
       "2018-04-27              219.0                46.0              17.0   \n",
       "2018-04-28              155.0                22.0              11.0   \n",
       "2018-04-29              122.0                 0.0               0.0   \n",
       "2018-04-30              104.0                 0.0               0.0   \n",
       "\n",
       "            activity_calories  \n",
       "date                           \n",
       "2018-04-26              566.0  \n",
       "2018-04-27             1752.0  \n",
       "2018-04-28             1124.0  \n",
       "2018-04-29              602.0  \n",
       "2018-04-30              540.0  "
      ]
     },
     "execution_count": 4,
     "metadata": {},
     "output_type": "execute_result"
    }
   ],
   "source": [
    "# Convert to Datetime\n",
    "df.date = pd.to_datetime(df.date)\n",
    "# Reset Index\n",
    "df = df.set_index('date').sort_index()\n",
    "df.head()"
   ]
  },
  {
   "cell_type": "markdown",
   "metadata": {},
   "source": [
    "### Step #2. Create Day of Week, Month, and Year Columns"
   ]
  },
  {
   "cell_type": "code",
   "execution_count": 5,
   "metadata": {},
   "outputs": [],
   "source": [
    "### Step #2. Create Day of Week, Month, and Year Columns\n",
    "df['Year'] = df.index.year\n",
    "df['Month'] = df.index.month\n",
    "df['weekday'] = df.index.day_name()"
   ]
  },
  {
   "cell_type": "markdown",
   "metadata": {},
   "source": [
    "### #3. Change data types of created colums to object and category"
   ]
  },
  {
   "cell_type": "code",
   "execution_count": 6,
   "metadata": {},
   "outputs": [
    {
     "data": {
      "text/html": [
       "<div>\n",
       "<style scoped>\n",
       "    .dataframe tbody tr th:only-of-type {\n",
       "        vertical-align: middle;\n",
       "    }\n",
       "\n",
       "    .dataframe tbody tr th {\n",
       "        vertical-align: top;\n",
       "    }\n",
       "\n",
       "    .dataframe thead th {\n",
       "        text-align: right;\n",
       "    }\n",
       "</style>\n",
       "<table border=\"1\" class=\"dataframe\">\n",
       "  <thead>\n",
       "    <tr style=\"text-align: right;\">\n",
       "      <th></th>\n",
       "      <th>calories_burned</th>\n",
       "      <th>steps</th>\n",
       "      <th>distance</th>\n",
       "      <th>floors</th>\n",
       "      <th>mins_sedentary</th>\n",
       "      <th>mins_light_active</th>\n",
       "      <th>mins_fairly_active</th>\n",
       "      <th>mins_very_active</th>\n",
       "      <th>activity_calories</th>\n",
       "      <th>Year</th>\n",
       "      <th>Month</th>\n",
       "      <th>weekday</th>\n",
       "    </tr>\n",
       "    <tr>\n",
       "      <th>date</th>\n",
       "      <th></th>\n",
       "      <th></th>\n",
       "      <th></th>\n",
       "      <th></th>\n",
       "      <th></th>\n",
       "      <th></th>\n",
       "      <th></th>\n",
       "      <th></th>\n",
       "      <th></th>\n",
       "      <th></th>\n",
       "      <th></th>\n",
       "      <th></th>\n",
       "    </tr>\n",
       "  </thead>\n",
       "  <tbody>\n",
       "    <tr>\n",
       "      <th>2018-04-26</th>\n",
       "      <td>2635.0</td>\n",
       "      <td>2931.0</td>\n",
       "      <td>1.38</td>\n",
       "      <td>2.0</td>\n",
       "      <td>1347.0</td>\n",
       "      <td>93.0</td>\n",
       "      <td>0.0</td>\n",
       "      <td>0.0</td>\n",
       "      <td>566.0</td>\n",
       "      <td>2018.0</td>\n",
       "      <td>4.0</td>\n",
       "      <td>Thursday</td>\n",
       "    </tr>\n",
       "    <tr>\n",
       "      <th>2018-04-27</th>\n",
       "      <td>3649.0</td>\n",
       "      <td>9971.0</td>\n",
       "      <td>4.70</td>\n",
       "      <td>19.0</td>\n",
       "      <td>1158.0</td>\n",
       "      <td>219.0</td>\n",
       "      <td>46.0</td>\n",
       "      <td>17.0</td>\n",
       "      <td>1752.0</td>\n",
       "      <td>2018.0</td>\n",
       "      <td>4.0</td>\n",
       "      <td>Friday</td>\n",
       "    </tr>\n",
       "    <tr>\n",
       "      <th>2018-04-28</th>\n",
       "      <td>3379.0</td>\n",
       "      <td>3521.0</td>\n",
       "      <td>1.66</td>\n",
       "      <td>2.0</td>\n",
       "      <td>702.0</td>\n",
       "      <td>155.0</td>\n",
       "      <td>22.0</td>\n",
       "      <td>11.0</td>\n",
       "      <td>1124.0</td>\n",
       "      <td>2018.0</td>\n",
       "      <td>4.0</td>\n",
       "      <td>Saturday</td>\n",
       "    </tr>\n",
       "    <tr>\n",
       "      <th>2018-04-29</th>\n",
       "      <td>2851.0</td>\n",
       "      <td>1639.0</td>\n",
       "      <td>0.77</td>\n",
       "      <td>0.0</td>\n",
       "      <td>891.0</td>\n",
       "      <td>122.0</td>\n",
       "      <td>0.0</td>\n",
       "      <td>0.0</td>\n",
       "      <td>602.0</td>\n",
       "      <td>2018.0</td>\n",
       "      <td>4.0</td>\n",
       "      <td>Sunday</td>\n",
       "    </tr>\n",
       "    <tr>\n",
       "      <th>2018-04-30</th>\n",
       "      <td>2825.0</td>\n",
       "      <td>1323.0</td>\n",
       "      <td>0.62</td>\n",
       "      <td>0.0</td>\n",
       "      <td>880.0</td>\n",
       "      <td>104.0</td>\n",
       "      <td>0.0</td>\n",
       "      <td>0.0</td>\n",
       "      <td>540.0</td>\n",
       "      <td>2018.0</td>\n",
       "      <td>4.0</td>\n",
       "      <td>Monday</td>\n",
       "    </tr>\n",
       "  </tbody>\n",
       "</table>\n",
       "</div>"
      ],
      "text/plain": [
       "            calories_burned   steps  distance  floors  mins_sedentary  \\\n",
       "date                                                                    \n",
       "2018-04-26           2635.0  2931.0      1.38     2.0          1347.0   \n",
       "2018-04-27           3649.0  9971.0      4.70    19.0          1158.0   \n",
       "2018-04-28           3379.0  3521.0      1.66     2.0           702.0   \n",
       "2018-04-29           2851.0  1639.0      0.77     0.0           891.0   \n",
       "2018-04-30           2825.0  1323.0      0.62     0.0           880.0   \n",
       "\n",
       "            mins_light_active  mins_fairly_active  mins_very_active  \\\n",
       "date                                                                  \n",
       "2018-04-26               93.0                 0.0               0.0   \n",
       "2018-04-27              219.0                46.0              17.0   \n",
       "2018-04-28              155.0                22.0              11.0   \n",
       "2018-04-29              122.0                 0.0               0.0   \n",
       "2018-04-30              104.0                 0.0               0.0   \n",
       "\n",
       "            activity_calories    Year Month   weekday  \n",
       "date                                                   \n",
       "2018-04-26              566.0  2018.0   4.0  Thursday  \n",
       "2018-04-27             1752.0  2018.0   4.0    Friday  \n",
       "2018-04-28             1124.0  2018.0   4.0  Saturday  \n",
       "2018-04-29              602.0  2018.0   4.0    Sunday  \n",
       "2018-04-30              540.0  2018.0   4.0    Monday  "
      ]
     },
     "execution_count": 6,
     "metadata": {},
     "output_type": "execute_result"
    }
   ],
   "source": [
    "  # Change dtypes of numeric columns to object and category\n",
    "df = (df.astype({'Year': 'category', \n",
    "                'Month': 'category', \n",
    "                'weekday': 'category'}))\n",
    "df.head()"
   ]
  },
  {
   "cell_type": "markdown",
   "metadata": {},
   "source": [
    "### #4. Descrbe (Sanity Check)"
   ]
  },
  {
   "cell_type": "code",
   "execution_count": 7,
   "metadata": {},
   "outputs": [
    {
     "data": {
      "text/html": [
       "<div>\n",
       "<style scoped>\n",
       "    .dataframe tbody tr th:only-of-type {\n",
       "        vertical-align: middle;\n",
       "    }\n",
       "\n",
       "    .dataframe tbody tr th {\n",
       "        vertical-align: top;\n",
       "    }\n",
       "\n",
       "    .dataframe thead th {\n",
       "        text-align: right;\n",
       "    }\n",
       "</style>\n",
       "<table border=\"1\" class=\"dataframe\">\n",
       "  <thead>\n",
       "    <tr style=\"text-align: right;\">\n",
       "      <th></th>\n",
       "      <th>calories_burned</th>\n",
       "      <th>steps</th>\n",
       "      <th>distance</th>\n",
       "      <th>floors</th>\n",
       "      <th>mins_sedentary</th>\n",
       "      <th>mins_light_active</th>\n",
       "      <th>mins_fairly_active</th>\n",
       "      <th>mins_very_active</th>\n",
       "      <th>activity_calories</th>\n",
       "    </tr>\n",
       "  </thead>\n",
       "  <tbody>\n",
       "    <tr>\n",
       "      <th>count</th>\n",
       "      <td>225.000000</td>\n",
       "      <td>225.000000</td>\n",
       "      <td>225.000000</td>\n",
       "      <td>225.000000</td>\n",
       "      <td>225.000000</td>\n",
       "      <td>225.000000</td>\n",
       "      <td>225.000000</td>\n",
       "      <td>225.000000</td>\n",
       "      <td>225.000000</td>\n",
       "    </tr>\n",
       "    <tr>\n",
       "      <th>mean</th>\n",
       "      <td>3401.911111</td>\n",
       "      <td>8536.186667</td>\n",
       "      <td>4.046800</td>\n",
       "      <td>12.591111</td>\n",
       "      <td>809.520000</td>\n",
       "      <td>188.235556</td>\n",
       "      <td>14.920000</td>\n",
       "      <td>33.871111</td>\n",
       "      <td>1484.546667</td>\n",
       "    </tr>\n",
       "    <tr>\n",
       "      <th>std</th>\n",
       "      <td>632.426578</td>\n",
       "      <td>5255.746608</td>\n",
       "      <td>2.506253</td>\n",
       "      <td>25.844174</td>\n",
       "      <td>243.232639</td>\n",
       "      <td>75.170001</td>\n",
       "      <td>15.363535</td>\n",
       "      <td>37.195986</td>\n",
       "      <td>747.795790</td>\n",
       "    </tr>\n",
       "    <tr>\n",
       "      <th>min</th>\n",
       "      <td>799.000000</td>\n",
       "      <td>0.000000</td>\n",
       "      <td>0.000000</td>\n",
       "      <td>0.000000</td>\n",
       "      <td>28.000000</td>\n",
       "      <td>0.000000</td>\n",
       "      <td>0.000000</td>\n",
       "      <td>0.000000</td>\n",
       "      <td>0.000000</td>\n",
       "    </tr>\n",
       "    <tr>\n",
       "      <th>25%</th>\n",
       "      <td>3069.000000</td>\n",
       "      <td>4714.000000</td>\n",
       "      <td>2.220000</td>\n",
       "      <td>2.000000</td>\n",
       "      <td>654.000000</td>\n",
       "      <td>158.000000</td>\n",
       "      <td>3.000000</td>\n",
       "      <td>2.000000</td>\n",
       "      <td>1062.000000</td>\n",
       "    </tr>\n",
       "    <tr>\n",
       "      <th>50%</th>\n",
       "      <td>3385.000000</td>\n",
       "      <td>7806.000000</td>\n",
       "      <td>3.680000</td>\n",
       "      <td>7.000000</td>\n",
       "      <td>750.000000</td>\n",
       "      <td>203.000000</td>\n",
       "      <td>11.000000</td>\n",
       "      <td>15.000000</td>\n",
       "      <td>1481.000000</td>\n",
       "    </tr>\n",
       "    <tr>\n",
       "      <th>75%</th>\n",
       "      <td>3765.000000</td>\n",
       "      <td>12380.000000</td>\n",
       "      <td>5.900000</td>\n",
       "      <td>13.000000</td>\n",
       "      <td>877.000000</td>\n",
       "      <td>236.000000</td>\n",
       "      <td>21.000000</td>\n",
       "      <td>63.000000</td>\n",
       "      <td>1962.000000</td>\n",
       "    </tr>\n",
       "    <tr>\n",
       "      <th>max</th>\n",
       "      <td>5199.000000</td>\n",
       "      <td>25512.000000</td>\n",
       "      <td>12.000000</td>\n",
       "      <td>195.000000</td>\n",
       "      <td>1440.000000</td>\n",
       "      <td>349.000000</td>\n",
       "      <td>78.000000</td>\n",
       "      <td>154.000000</td>\n",
       "      <td>3596.000000</td>\n",
       "    </tr>\n",
       "  </tbody>\n",
       "</table>\n",
       "</div>"
      ],
      "text/plain": [
       "       calories_burned         steps    distance      floors  mins_sedentary  \\\n",
       "count       225.000000    225.000000  225.000000  225.000000      225.000000   \n",
       "mean       3401.911111   8536.186667    4.046800   12.591111      809.520000   \n",
       "std         632.426578   5255.746608    2.506253   25.844174      243.232639   \n",
       "min         799.000000      0.000000    0.000000    0.000000       28.000000   \n",
       "25%        3069.000000   4714.000000    2.220000    2.000000      654.000000   \n",
       "50%        3385.000000   7806.000000    3.680000    7.000000      750.000000   \n",
       "75%        3765.000000  12380.000000    5.900000   13.000000      877.000000   \n",
       "max        5199.000000  25512.000000   12.000000  195.000000     1440.000000   \n",
       "\n",
       "       mins_light_active  mins_fairly_active  mins_very_active  \\\n",
       "count         225.000000          225.000000        225.000000   \n",
       "mean          188.235556           14.920000         33.871111   \n",
       "std            75.170001           15.363535         37.195986   \n",
       "min             0.000000            0.000000          0.000000   \n",
       "25%           158.000000            3.000000          2.000000   \n",
       "50%           203.000000           11.000000         15.000000   \n",
       "75%           236.000000           21.000000         63.000000   \n",
       "max           349.000000           78.000000        154.000000   \n",
       "\n",
       "       activity_calories  \n",
       "count         225.000000  \n",
       "mean         1484.546667  \n",
       "std           747.795790  \n",
       "min             0.000000  \n",
       "25%          1062.000000  \n",
       "50%          1481.000000  \n",
       "75%          1962.000000  \n",
       "max          3596.000000  "
      ]
     },
     "execution_count": 7,
     "metadata": {},
     "output_type": "execute_result"
    }
   ],
   "source": [
    "df.describe()"
   ]
  },
  {
   "cell_type": "markdown",
   "metadata": {},
   "source": [
    "# Explore:\n",
    "\n",
    "Goals:\n",
    "1. Find Trends\n",
    "2. Find Seasonality"
   ]
  },
  {
   "cell_type": "markdown",
   "metadata": {},
   "source": [
    "### Step #1. Split Data (Human Based)\n",
    "\n",
    "- Target Variable = calories_burned"
   ]
  },
  {
   "cell_type": "code",
   "execution_count": 12,
   "metadata": {},
   "outputs": [
    {
     "data": {
      "text/plain": [
       "4.0      5\n",
       "12.0     6\n",
       "11.0    30\n",
       "9.0     30\n",
       "6.0     30\n",
       "10.0    31\n",
       "8.0     31\n",
       "7.0     31\n",
       "5.0     31\n",
       "Name: Month, dtype: int64"
      ]
     },
     "execution_count": 12,
     "metadata": {},
     "output_type": "execute_result"
    }
   ],
   "source": [
    "df.Month.value_counts().sort_values()"
   ]
  },
  {
   "cell_type": "code",
   "execution_count": 16,
   "metadata": {},
   "outputs": [
    {
     "data": {
      "image/png": "[encoded data removed]",
      "text/plain": [
       "<Figure size 792x648 with 1 Axes>"
      ]
     },
     "metadata": {
      "needs_background": "light"
     },
     "output_type": "display_data"
    }
   ],
   "source": [
    "train = df.loc[:'2018-10'] # includes October\n",
    "test = df.loc['2018-11']\n",
    "\n",
    "plt.plot(train.index, train.calories_burned)\n",
    "plt.plot(test.index, test.calories_burned)\n",
    "plt.show()"
   ]
  },
  {
   "cell_type": "markdown",
   "metadata": {},
   "source": [
    "### Step # 2. Explore Data Visually and Document Takeaways"
   ]
  },
  {
   "cell_type": "code",
   "execution_count": 17,
   "metadata": {},
   "outputs": [],
   "source": [
    "def numeric_hists(df, bins=20):\n",
    "    \"\"\"\n",
    "    Function to take in a DataFrame, bins default 20,\n",
    "    select only numeric dtypes, and\n",
    "    display histograms for each numeric column\n",
    "    \"\"\"\n",
    "    plt.rc('figure', figsize=(11, 9))\n",
    "    plt.rc('font', size=13)\n",
    "    num_df = df.select_dtypes(include=np.number)\n",
    "    num_df.hist(bins=bins, color='thistle', ec='black')\n",
    "    plt.suptitle('Numeric Column Distributions')\n",
    "    plt.tight_layout()\n",
    "    plt.show()"
   ]
  },
  {
   "cell_type": "code",
   "execution_count": 20,
   "metadata": {},
   "outputs": [
    {
     "data": {
      "image/png": "[encoded data removed]",
      "text/plain": [
       "<Figure size 792x648 with 9 Axes>"
      ]
     },
     "metadata": {
      "needs_background": "light"
     },
     "output_type": "display_data"
    }
   ],
   "source": [
    "numeric_hists(train, bins=20)"
   ]
  },
  {
   "cell_type": "markdown",
   "metadata": {},
   "source": [
    "***Observations***\n",
    "\n",
    "1. (months)This individual appears to have worn a fitbit from the end of April to the begining o December\n",
    "\n",
    "2. (activity_calories) This indidivudal burned around 1,500 cal per day, however it appars that they were unable or unwilling to exercise about 15 days during this time period\n",
    "\n",
    "3. (distance) This individual walked on averge 3.5 miles a day,( about 7,000 steps)\n",
    "\n",
    "4. (mins_sedentary) This individual spend most of the day sedientary (700 min or 12 hours), and if active engaged in light activity.\n",
    "\n",
    "5. (floors) This individual spent the majority of their time walking up two flight of stairs daily.  \n",
    "\n",
    "***\n",
    "\n",
    "***Claims***\n",
    "\n",
    "- Based on the evidence above I believe that the individual with this fit bit is a staff member.  The lack o food information and regular exercise suggest they are not members of the research group.  The sedintary nature of the individual and 2 flight of stairs daily suggest an employee who is aware of health and fitness but who has prioritys that often pull them in other directions.  "
   ]
  },
  {
   "cell_type": "code",
   "execution_count": 22,
   "metadata": {},
   "outputs": [
    {
     "data": {
      "text/plain": [
       "date\n",
       "2018-04-26    2635.0\n",
       "2018-04-27    3649.0\n",
       "2018-04-28    3379.0\n",
       "2018-04-29    2851.0\n",
       "2018-04-30    2825.0\n",
       "Name: calories_burned, dtype: float64"
      ]
     },
     "execution_count": 22,
     "metadata": {},
     "output_type": "execute_result"
    }
   ],
   "source": [
    "# Explore Target Variable\n",
    "y = train.calories_burned\n",
    "y.head()"
   ]
  },
  {
   "cell_type": "code",
   "execution_count": 23,
   "metadata": {},
   "outputs": [
    {
     "data": {
      "image/png": "[encoded data removed]",
      "text/plain": [
       "<Figure size 792x648 with 1 Axes>"
      ]
     },
     "metadata": {
      "needs_background": "light"
     },
     "output_type": "display_data"
    }
   ],
   "source": [
    "# Daily Trends\n",
    "y.plot.hist()\n",
    "plt.show()"
   ]
  },
  {
   "cell_type": "markdown",
   "metadata": {},
   "source": [
    "***\n",
    "\n",
    "`Individual appears to consistantly burn 3,300 calories a day (Suggestive of a female employee)`\n",
    "\n",
    "***"
   ]
  },
  {
   "cell_type": "code",
   "execution_count": 27,
   "metadata": {},
   "outputs": [
    {
     "data": {
      "image/png": "[encoded data removed]",
      "text/plain": [
       "<Figure size 792x648 with 1 Axes>"
      ]
     },
     "metadata": {
      "needs_background": "light"
     },
     "output_type": "display_data"
    }
   ],
   "source": [
    "# Monthly Trends\n",
    "train['month'] = train.index.month\n",
    "train.groupby('month').calories_burned.mean().plot.bar()\n",
    "plt.show()"
   ]
  },
  {
   "cell_type": "markdown",
   "metadata": {},
   "source": [
    "***\n",
    "\n",
    "`Individual appears to consistantly burn 3,200 calories a month, with more calories burned during month 7-10 (Most likely due to good weather`)\n",
    "\n",
    "\n",
    "- Trend is increasing over time\n",
    "\n",
    "- Seasonality is not observed, but infered as increase in activity in warmer months\n",
    "\n",
    "***"
   ]
  },
  {
   "cell_type": "code",
   "execution_count": null,
   "metadata": {},
   "outputs": [],
   "source": []
  }
 ],
 "metadata": {
  "kernelspec": {
   "display_name": "Python 3",
   "language": "python",
   "name": "python3"
  },
  "language_info": {
   "codemirror_mode": {
    "name": "ipython",
    "version": 3
   },
   "file_extension": ".py",
   "mimetype": "text/x-python",
   "name": "python",
   "nbconvert_exporter": "python",
   "pygments_lexer": "ipython3",
   "version": "3.8.3"
  }
 },
 "nbformat": 4,
 "nbformat_minor": 4
}
