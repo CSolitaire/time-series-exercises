{
 "cells": [
  {
   "cell_type": "markdown",
   "metadata": {},
   "source": [
    "### **Climacell Project**"
   ]
  },
  {
   "cell_type": "code",
   "execution_count": 1,
   "metadata": {},
   "outputs": [],
   "source": [
    "import requests\n",
    "import pandas as pd\n",
    "from env import key, client\n",
    "import datetime\n",
    "from datetime import date\n",
    "import json"
   ]
  },
  {
   "cell_type": "markdown",
   "metadata": {},
   "source": [
    "**Real Time Climate Data**"
   ]
  },
  {
   "cell_type": "code",
   "execution_count": 2,
   "metadata": {},
   "outputs": [
    {
     "name": "stdout",
     "output_type": "stream",
     "text": [
      "200\n"
     ]
    },
    {
     "data": {
      "text/html": [
       "<div>\n",
       "<style scoped>\n",
       "    .dataframe tbody tr th:only-of-type {\n",
       "        vertical-align: middle;\n",
       "    }\n",
       "\n",
       "    .dataframe tbody tr th {\n",
       "        vertical-align: top;\n",
       "    }\n",
       "\n",
       "    .dataframe thead th {\n",
       "        text-align: right;\n",
       "    }\n",
       "</style>\n",
       "<table border=\"1\" class=\"dataframe\">\n",
       "  <thead>\n",
       "    <tr style=\"text-align: right;\">\n",
       "      <th></th>\n",
       "      <th>lat</th>\n",
       "      <th>lon</th>\n",
       "      <th>temp</th>\n",
       "      <th>wind_speed</th>\n",
       "      <th>humidity</th>\n",
       "      <th>precipitation</th>\n",
       "      <th>cloud_cover</th>\n",
       "      <th>observation_time</th>\n",
       "    </tr>\n",
       "  </thead>\n",
       "  <tbody>\n",
       "    <tr>\n",
       "      <th>value</th>\n",
       "      <td>29.4576</td>\n",
       "      <td>98.4587</td>\n",
       "      <td>9</td>\n",
       "      <td>1.75</td>\n",
       "      <td>63.63</td>\n",
       "      <td>0</td>\n",
       "      <td>0</td>\n",
       "      <td>2020-10-25T19:45:09.462Z</td>\n",
       "    </tr>\n",
       "    <tr>\n",
       "      <th>units</th>\n",
       "      <td>29.4576</td>\n",
       "      <td>98.4587</td>\n",
       "      <td>C</td>\n",
       "      <td>m/s</td>\n",
       "      <td>%</td>\n",
       "      <td>mm/hr</td>\n",
       "      <td>%</td>\n",
       "      <td>NaN</td>\n",
       "    </tr>\n",
       "  </tbody>\n",
       "</table>\n",
       "</div>"
      ],
      "text/plain": [
       "           lat      lon temp wind_speed humidity precipitation cloud_cover  \\\n",
       "value  29.4576  98.4587    9       1.75    63.63             0           0   \n",
       "units  29.4576  98.4587    C        m/s        %         mm/hr           %   \n",
       "\n",
       "               observation_time  \n",
       "value  2020-10-25T19:45:09.462Z  \n",
       "units                       NaN  "
      ]
     },
     "execution_count": 2,
     "metadata": {},
     "output_type": "execute_result"
    }
   ],
   "source": [
    "# This request is the San Antonio Botanical Garden. It returns realtime data for the identified fields.\n",
    "response = client.realtime(lat= 29.4576, lon=98.4587, fields=['precipitation', 'temp', 'humidity', 'wind_speed', 'cloud_cover'])\n",
    "# Returns status code (Query Successful or Not)\n",
    "print(response.status_code)\n",
    "# Create df of results to visualize\n",
    "data = response.json()\n",
    "df = pd.DataFrame(data)\n",
    "df.head()"
   ]
  },
  {
   "cell_type": "markdown",
   "metadata": {},
   "source": [
    "**Historical Climate Data**"
   ]
  },
  {
   "cell_type": "code",
   "execution_count": 3,
   "metadata": {},
   "outputs": [],
   "source": [
    "# First you need to formatt the date correctly\n",
    "def date_in_java():\n",
    "    #import datetime\n",
    "    now = datetime.datetime.now()\n",
    "    iso_time = now.strftime(\"%Y-%m-%dT%H:%M:%SZ\") \n",
    "    return iso_time\n"
   ]
  },
  {
   "cell_type": "code",
   "execution_count": 4,
   "metadata": {},
   "outputs": [
    {
     "data": {
      "text/plain": [
       "'2020-10-25T14:45:09Z'"
      ]
     },
     "execution_count": 4,
     "metadata": {},
     "output_type": "execute_result"
    }
   ],
   "source": [
    "date = date_in_java()\n",
    "date\n"
   ]
  },
  {
   "cell_type": "code",
   "execution_count": 5,
   "metadata": {},
   "outputs": [
    {
     "data": {
      "text/plain": [
       "'2020-06-22T20:47:00Z'"
      ]
     },
     "execution_count": 5,
     "metadata": {},
     "output_type": "execute_result"
    }
   ],
   "source": [
    "'2020-06-22T20:47:00Z'"
   ]
  },
  {
   "cell_type": "code",
   "execution_count": 8,
   "metadata": {},
   "outputs": [
    {
     "name": "stdout",
     "output_type": "stream",
     "text": [
      "200\n"
     ]
    }
   ],
   "source": [
    "# This request is the San Antonio Botanical Garden. It returns historical data for the identified fields.\n",
    "response = client.historical_climacell(lat= 29.4576, lon=98.4587, timestep = 30, start_time = '2020-10-25T14:45:09Z', end_time ='now', fields=[\"feels_like\", \"dewpoint\", \"wind_direction\", \n",
    "                                                            \"wind_gust\", \"baro_pressure\", \"precipitation\", \n",
    "                                                            \"precipitation_type\",\"temp\", \"humidity\", \n",
    "                                                            \"wind_speed\", \"cloud_cover\",\"visibility\",\n",
    "                                                            \"cloud_base\", \"cloud_ceiling\"])                                                                                                                 \n",
    "# Returns status code (Query Successful or Not)\n",
    "print(response.status_code)\n",
    "# Create df of results to visualize\n",
    "data = response.json()"
   ]
  },
  {
   "cell_type": "code",
   "execution_count": 21,
   "metadata": {},
   "outputs": [
    {
     "data": {
      "text/html": [
       "<div>\n",
       "<style scoped>\n",
       "    .dataframe tbody tr th:only-of-type {\n",
       "        vertical-align: middle;\n",
       "    }\n",
       "\n",
       "    .dataframe tbody tr th {\n",
       "        vertical-align: top;\n",
       "    }\n",
       "\n",
       "    .dataframe thead th {\n",
       "        text-align: right;\n",
       "    }\n",
       "</style>\n",
       "<table border=\"1\" class=\"dataframe\">\n",
       "  <thead>\n",
       "    <tr style=\"text-align: right;\">\n",
       "      <th></th>\n",
       "      <th>lat</th>\n",
       "      <th>lon</th>\n",
       "      <th>temp</th>\n",
       "      <th>feels_like</th>\n",
       "      <th>dewpoint</th>\n",
       "      <th>wind_speed</th>\n",
       "      <th>wind_gust</th>\n",
       "      <th>baro_pressure</th>\n",
       "      <th>visibility</th>\n",
       "      <th>precipitation</th>\n",
       "      <th>cloud_cover</th>\n",
       "      <th>cloud_ceiling</th>\n",
       "      <th>cloud_base</th>\n",
       "      <th>humidity</th>\n",
       "      <th>wind_direction</th>\n",
       "      <th>precipitation_type</th>\n",
       "      <th>observation_time</th>\n",
       "    </tr>\n",
       "  </thead>\n",
       "  <tbody>\n",
       "    <tr>\n",
       "      <th>0</th>\n",
       "      <td>29.4576</td>\n",
       "      <td>98.4587</td>\n",
       "      <td>{'value': 11.09, 'units': 'C'}</td>\n",
       "      <td>{'value': 11.09, 'units': 'C'}</td>\n",
       "      <td>{'value': 4.47, 'units': 'C'}</td>\n",
       "      <td>{'value': 2.42, 'units': 'm/s'}</td>\n",
       "      <td>{'value': 3.87, 'units': 'm/s'}</td>\n",
       "      <td>{'value': 1007.7834, 'units': 'hPa'}</td>\n",
       "      <td>{'value': 10, 'units': 'km'}</td>\n",
       "      <td>{'value': 0, 'units': 'mm/hr'}</td>\n",
       "      <td>{'value': 0, 'units': '%'}</td>\n",
       "      <td>{'value': None, 'units': 'm'}</td>\n",
       "      <td>{'value': None, 'units': 'm'}</td>\n",
       "      <td>{'value': 63.57, 'units': '%'}</td>\n",
       "      <td>{'value': 158.13, 'units': 'degrees'}</td>\n",
       "      <td>{'value': 'none'}</td>\n",
       "      <td>{'value': '2020-10-25T14:45:09.000Z'}</td>\n",
       "    </tr>\n",
       "    <tr>\n",
       "      <th>1</th>\n",
       "      <td>29.4576</td>\n",
       "      <td>98.4587</td>\n",
       "      <td>{'value': 10.78, 'units': 'C'}</td>\n",
       "      <td>{'value': 10.78, 'units': 'C'}</td>\n",
       "      <td>{'value': 4.28, 'units': 'C'}</td>\n",
       "      <td>{'value': 2.33, 'units': 'm/s'}</td>\n",
       "      <td>{'value': 3.75, 'units': 'm/s'}</td>\n",
       "      <td>{'value': 1008.2209, 'units': 'hPa'}</td>\n",
       "      <td>{'value': 10, 'units': 'km'}</td>\n",
       "      <td>{'value': 0, 'units': 'mm/hr'}</td>\n",
       "      <td>{'value': 0, 'units': '%'}</td>\n",
       "      <td>{'value': None, 'units': 'm'}</td>\n",
       "      <td>{'value': None, 'units': 'm'}</td>\n",
       "      <td>{'value': 64.07, 'units': '%'}</td>\n",
       "      <td>{'value': 158.13, 'units': 'degrees'}</td>\n",
       "      <td>{'value': 'none'}</td>\n",
       "      <td>{'value': '2020-10-25T15:15:09.000Z'}</td>\n",
       "    </tr>\n",
       "    <tr>\n",
       "      <th>2</th>\n",
       "      <td>29.4576</td>\n",
       "      <td>98.4587</td>\n",
       "      <td>{'value': 10.47, 'units': 'C'}</td>\n",
       "      <td>{'value': 10.47, 'units': 'C'}</td>\n",
       "      <td>{'value': 4.09, 'units': 'C'}</td>\n",
       "      <td>{'value': 2.23, 'units': 'm/s'}</td>\n",
       "      <td>{'value': 3.62, 'units': 'm/s'}</td>\n",
       "      <td>{'value': 1008.6584, 'units': 'hPa'}</td>\n",
       "      <td>{'value': 10, 'units': 'km'}</td>\n",
       "      <td>{'value': 0, 'units': 'mm/hr'}</td>\n",
       "      <td>{'value': 0, 'units': '%'}</td>\n",
       "      <td>{'value': None, 'units': 'm'}</td>\n",
       "      <td>{'value': None, 'units': 'm'}</td>\n",
       "      <td>{'value': 64.57, 'units': '%'}</td>\n",
       "      <td>{'value': 158.13, 'units': 'degrees'}</td>\n",
       "      <td>{'value': 'none'}</td>\n",
       "      <td>{'value': '2020-10-25T15:45:09.000Z'}</td>\n",
       "    </tr>\n",
       "    <tr>\n",
       "      <th>3</th>\n",
       "      <td>29.4576</td>\n",
       "      <td>98.4587</td>\n",
       "      <td>{'value': 10.22, 'units': 'C'}</td>\n",
       "      <td>{'value': 10.22, 'units': 'C'}</td>\n",
       "      <td>{'value': 3.91, 'units': 'C'}</td>\n",
       "      <td>{'value': 2.16, 'units': 'm/s'}</td>\n",
       "      <td>{'value': 3.5, 'units': 'm/s'}</td>\n",
       "      <td>{'value': 1008.9381, 'units': 'hPa'}</td>\n",
       "      <td>{'value': 10, 'units': 'km'}</td>\n",
       "      <td>{'value': 0, 'units': 'mm/hr'}</td>\n",
       "      <td>{'value': 0, 'units': '%'}</td>\n",
       "      <td>{'value': None, 'units': 'm'}</td>\n",
       "      <td>{'value': None, 'units': 'm'}</td>\n",
       "      <td>{'value': 64.78, 'units': '%'}</td>\n",
       "      <td>{'value': 157.88, 'units': 'degrees'}</td>\n",
       "      <td>{'value': 'none'}</td>\n",
       "      <td>{'value': '2020-10-25T16:15:09.000Z'}</td>\n",
       "    </tr>\n",
       "    <tr>\n",
       "      <th>4</th>\n",
       "      <td>29.4576</td>\n",
       "      <td>98.4587</td>\n",
       "      <td>{'value': 10.03, 'units': 'C'}</td>\n",
       "      <td>{'value': 10.03, 'units': 'C'}</td>\n",
       "      <td>{'value': 3.72, 'units': 'C'}</td>\n",
       "      <td>{'value': 2.09, 'units': 'm/s'}</td>\n",
       "      <td>{'value': 3.37, 'units': 'm/s'}</td>\n",
       "      <td>{'value': 1009.0631, 'units': 'hPa'}</td>\n",
       "      <td>{'value': 10, 'units': 'km'}</td>\n",
       "      <td>{'value': 0, 'units': 'mm/hr'}</td>\n",
       "      <td>{'value': 0, 'units': '%'}</td>\n",
       "      <td>{'value': None, 'units': 'm'}</td>\n",
       "      <td>{'value': None, 'units': 'm'}</td>\n",
       "      <td>{'value': 64.72, 'units': '%'}</td>\n",
       "      <td>{'value': 157.88, 'units': 'degrees'}</td>\n",
       "      <td>{'value': 'none'}</td>\n",
       "      <td>{'value': '2020-10-25T16:45:09.000Z'}</td>\n",
       "    </tr>\n",
       "  </tbody>\n",
       "</table>\n",
       "</div>"
      ],
      "text/plain": [
       "       lat      lon                            temp  \\\n",
       "0  29.4576  98.4587  {'value': 11.09, 'units': 'C'}   \n",
       "1  29.4576  98.4587  {'value': 10.78, 'units': 'C'}   \n",
       "2  29.4576  98.4587  {'value': 10.47, 'units': 'C'}   \n",
       "3  29.4576  98.4587  {'value': 10.22, 'units': 'C'}   \n",
       "4  29.4576  98.4587  {'value': 10.03, 'units': 'C'}   \n",
       "\n",
       "                       feels_like                       dewpoint  \\\n",
       "0  {'value': 11.09, 'units': 'C'}  {'value': 4.47, 'units': 'C'}   \n",
       "1  {'value': 10.78, 'units': 'C'}  {'value': 4.28, 'units': 'C'}   \n",
       "2  {'value': 10.47, 'units': 'C'}  {'value': 4.09, 'units': 'C'}   \n",
       "3  {'value': 10.22, 'units': 'C'}  {'value': 3.91, 'units': 'C'}   \n",
       "4  {'value': 10.03, 'units': 'C'}  {'value': 3.72, 'units': 'C'}   \n",
       "\n",
       "                        wind_speed                        wind_gust  \\\n",
       "0  {'value': 2.42, 'units': 'm/s'}  {'value': 3.87, 'units': 'm/s'}   \n",
       "1  {'value': 2.33, 'units': 'm/s'}  {'value': 3.75, 'units': 'm/s'}   \n",
       "2  {'value': 2.23, 'units': 'm/s'}  {'value': 3.62, 'units': 'm/s'}   \n",
       "3  {'value': 2.16, 'units': 'm/s'}   {'value': 3.5, 'units': 'm/s'}   \n",
       "4  {'value': 2.09, 'units': 'm/s'}  {'value': 3.37, 'units': 'm/s'}   \n",
       "\n",
       "                          baro_pressure                    visibility  \\\n",
       "0  {'value': 1007.7834, 'units': 'hPa'}  {'value': 10, 'units': 'km'}   \n",
       "1  {'value': 1008.2209, 'units': 'hPa'}  {'value': 10, 'units': 'km'}   \n",
       "2  {'value': 1008.6584, 'units': 'hPa'}  {'value': 10, 'units': 'km'}   \n",
       "3  {'value': 1008.9381, 'units': 'hPa'}  {'value': 10, 'units': 'km'}   \n",
       "4  {'value': 1009.0631, 'units': 'hPa'}  {'value': 10, 'units': 'km'}   \n",
       "\n",
       "                    precipitation                 cloud_cover  \\\n",
       "0  {'value': 0, 'units': 'mm/hr'}  {'value': 0, 'units': '%'}   \n",
       "1  {'value': 0, 'units': 'mm/hr'}  {'value': 0, 'units': '%'}   \n",
       "2  {'value': 0, 'units': 'mm/hr'}  {'value': 0, 'units': '%'}   \n",
       "3  {'value': 0, 'units': 'mm/hr'}  {'value': 0, 'units': '%'}   \n",
       "4  {'value': 0, 'units': 'mm/hr'}  {'value': 0, 'units': '%'}   \n",
       "\n",
       "                   cloud_ceiling                     cloud_base  \\\n",
       "0  {'value': None, 'units': 'm'}  {'value': None, 'units': 'm'}   \n",
       "1  {'value': None, 'units': 'm'}  {'value': None, 'units': 'm'}   \n",
       "2  {'value': None, 'units': 'm'}  {'value': None, 'units': 'm'}   \n",
       "3  {'value': None, 'units': 'm'}  {'value': None, 'units': 'm'}   \n",
       "4  {'value': None, 'units': 'm'}  {'value': None, 'units': 'm'}   \n",
       "\n",
       "                         humidity                         wind_direction  \\\n",
       "0  {'value': 63.57, 'units': '%'}  {'value': 158.13, 'units': 'degrees'}   \n",
       "1  {'value': 64.07, 'units': '%'}  {'value': 158.13, 'units': 'degrees'}   \n",
       "2  {'value': 64.57, 'units': '%'}  {'value': 158.13, 'units': 'degrees'}   \n",
       "3  {'value': 64.78, 'units': '%'}  {'value': 157.88, 'units': 'degrees'}   \n",
       "4  {'value': 64.72, 'units': '%'}  {'value': 157.88, 'units': 'degrees'}   \n",
       "\n",
       "  precipitation_type                       observation_time  \n",
       "0  {'value': 'none'}  {'value': '2020-10-25T14:45:09.000Z'}  \n",
       "1  {'value': 'none'}  {'value': '2020-10-25T15:15:09.000Z'}  \n",
       "2  {'value': 'none'}  {'value': '2020-10-25T15:45:09.000Z'}  \n",
       "3  {'value': 'none'}  {'value': '2020-10-25T16:15:09.000Z'}  \n",
       "4  {'value': 'none'}  {'value': '2020-10-25T16:45:09.000Z'}  "
      ]
     },
     "execution_count": 21,
     "metadata": {},
     "output_type": "execute_result"
    }
   ],
   "source": [
    "df.head()"
   ]
  },
  {
   "cell_type": "markdown",
   "metadata": {},
   "source": [
    "### International Space Station (# of People Currently In Space)"
   ]
  },
  {
   "cell_type": "code",
   "execution_count": 17,
   "metadata": {},
   "outputs": [
    {
     "data": {
      "text/plain": [
       "200"
      ]
     },
     "execution_count": 17,
     "metadata": {},
     "output_type": "execute_result"
    }
   ],
   "source": [
    "response = requests.get('http://api.open-notify.org/astros.json')\n",
    "# Will Request Be Sucessful\n",
    "response.status_code"
   ]
  },
  {
   "cell_type": "code",
   "execution_count": 18,
   "metadata": {},
   "outputs": [
    {
     "name": "stdout",
     "output_type": "stream",
     "text": [
      "{'message': 'success', 'people': [{'name': 'Sergey Ryzhikov', 'craft': 'ISS'}, {'name': 'Kate Rubins', 'craft': 'ISS'}, {'name': 'Sergey Kud-Sverchkov', 'craft': 'ISS'}], 'number': 3}\n"
     ]
    }
   ],
   "source": [
    "# Print Response\n",
    "print(response.json())"
   ]
  },
  {
   "cell_type": "code",
   "execution_count": 20,
   "metadata": {},
   "outputs": [
    {
     "name": "stdout",
     "output_type": "stream",
     "text": [
      "{\n",
      "    \"message\": \"success\",\n",
      "    \"number\": 3,\n",
      "    \"people\": [\n",
      "        {\n",
      "            \"craft\": \"ISS\",\n",
      "            \"name\": \"Sergey Ryzhikov\"\n",
      "        },\n",
      "        {\n",
      "            \"craft\": \"ISS\",\n",
      "            \"name\": \"Kate Rubins\"\n",
      "        },\n",
      "        {\n",
      "            \"craft\": \"ISS\",\n",
      "            \"name\": \"Sergey Kud-Sverchkov\"\n",
      "        }\n",
      "    ]\n",
      "}\n"
     ]
    }
   ],
   "source": [
    "# Function to dump response in to a formatted string\n",
    "\n",
    "import json\n",
    "\n",
    "def jprint(obj):\n",
    "    # create a formatted string of the Python JSON object\n",
    "    text = json.dumps(obj, sort_keys=True, indent=4)\n",
    "    print(text)\n",
    "\n",
    "jprint(response.json())"
   ]
  },
  {
   "cell_type": "code",
   "execution_count": null,
   "metadata": {},
   "outputs": [],
   "source": []
  }
 ],
 "metadata": {
  "kernelspec": {
   "display_name": "Python 3",
   "language": "python",
   "name": "python3"
  },
  "language_info": {
   "codemirror_mode": {
    "name": "ipython",
    "version": 3
   },
   "file_extension": ".py",
   "mimetype": "text/x-python",
   "name": "python",
   "nbconvert_exporter": "python",
   "pygments_lexer": "ipython3",
   "version": "3.8.3"
  }
 },
 "nbformat": 4,
 "nbformat_minor": 4
}
